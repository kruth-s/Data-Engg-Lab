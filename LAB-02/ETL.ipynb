{
 "cells": [
  {
   "cell_type": "code",
   "execution_count": 7,
   "id": "7cdafe7e-bc2e-46fd-b57b-c3feb3e0191e",
   "metadata": {},
   "outputs": [
    {
     "name": "stdout",
     "output_type": "stream",
     "text": [
      "Processed data saved to data_warehouse/processed_sales_data.csv\n"
     ]
    }
   ],
   "source": [
    "\n",
    "# -------------------------------\n",
    "# Stage 1: Business Analyst Task\n",
    "# -------------------------------\n",
    "# Business Question: What are the top 5 products by revenue in the last quarter, and how does customer sentiment vary for these products?\n",
    "# Required data points: product_id, sale_price, quantity, sale_date, customer_id, sentiment_score\n",
    "\n",
    "# -------------------------------\n",
    "# Stage 2: Data Engineer Task\n",
    "# -------------------------------\n",
    "\n",
    "import pandas as pd\n",
    "import matplotlib.pyplot as plt\n",
    "import os\n",
    "\n",
    "# Ensure directory structure\n",
    "os.makedirs(\"data_warehouse\", exist_ok=True)\n",
    "\n",
    "# -------------------------------\n",
    "# Stage 1: Business Analyst Task\n",
    "# -------------------------------\n",
    "# Business Question: What are the top 5 products by revenue in the last quarter, \n",
    "# and how does customer sentiment vary for these products?\n",
    "# Required data points: product_id, sale_price, quantity, sale_date, customer_id, sentiment_score\n",
    "\n",
    "# -------------------------------\n",
    "# Stage 2: Data Engineer Task\n",
    "# -------------------------------\n",
    "\n",
    "# 1. Ingestion\n",
    "sales_df = pd.read_csv(\"./raw_data/sale_price.csv\")\n",
    "feedback_df = pd.read_json(\"./raw_data/customer_feedback.json\")\n",
    "\n",
    "# 2. Cleansing\n",
    "\n",
    "# Remove '$' and convert sale_price to float\n",
    "sales_df['sale_price'] = sales_df['sale_price'].replace('[\\$,]', '', regex=True).astype(float)\n",
    "\n",
    "# Fill missing quantity with 1 (default)\n",
    "sales_df['quantity'] = sales_df['quantity'].fillna(1).astype(int)\n",
    "\n",
    "# Standardize date format\n",
    "sales_df['sale_date'] = pd.to_datetime(sales_df['sale_date'], format='mixed', errors='coerce')\n",
    "feedback_df['review_date'] = pd.to_datetime(feedback_df['review_date'], format='mixed', errors='coerce')\n",
    "\n",
    "# 3. Transformation\n",
    "\n",
    "# Compute total revenue\n",
    "sales_df['total_revenue'] = sales_df['sale_price'] * sales_df['quantity']\n",
    "\n",
    "# Keep the latest feedback entry per (product_id, customer_id)\n",
    "feedback_df = feedback_df.sort_values('review_date').drop_duplicates(\n",
    "    subset=['product_id', 'customer_id'], keep='last'\n",
    ")\n",
    "\n",
    "# Merge sales and feedback\n",
    "merged_df = pd.merge(sales_df, feedback_df, on=['product_id', 'customer_id'], how='left')\n",
    "\n",
    "# Remove rows where sale_price is 0 or review_date is missing\n",
    "merged_df = merged_df[(merged_df['sale_price'] > 0) & (merged_df['review_date'].notna())]\n",
    "\n",
    "# 4. Loading to warehouse\n",
    "processed_path = \"data_warehouse/processed_sales_data.csv\"\n",
    "merged_df.to_csv(processed_path, index=False)\n",
    "\n",
    "print(f\"Processed data saved to {processed_path}\")\n"
   ]
  },
  {
   "cell_type": "code",
   "execution_count": null,
   "id": "33a579a5-ba3e-4e34-8a97-60865e0a1693",
   "metadata": {},
   "outputs": [],
   "source": []
  },
  {
   "cell_type": "code",
   "execution_count": null,
   "id": "03f9a779-b147-4756-b851-dd695f53816a",
   "metadata": {},
   "outputs": [],
   "source": []
  }
 ],
 "metadata": {
  "kernelspec": {
   "display_name": "Python 3 (ipykernel)",
   "language": "python",
   "name": "python3"
  },
  "language_info": {
   "codemirror_mode": {
    "name": "ipython",
    "version": 3
   },
   "file_extension": ".py",
   "mimetype": "text/x-python",
   "name": "python",
   "nbconvert_exporter": "python",
   "pygments_lexer": "ipython3",
   "version": "3.11.7"
  }
 },
 "nbformat": 4,
 "nbformat_minor": 5
}
